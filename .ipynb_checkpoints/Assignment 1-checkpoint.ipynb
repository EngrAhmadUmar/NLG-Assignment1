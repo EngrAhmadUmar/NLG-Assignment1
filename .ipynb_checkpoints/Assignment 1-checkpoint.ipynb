{
 "cells": [
  {
   "cell_type": "code",
   "execution_count": null,
   "id": "074c4345-9296-4cc6-8baa-22f7acb53004",
   "metadata": {},
   "outputs": [],
   "source": [
    "# Define transition probabilities (dummy data)\n",
    "transition_probs = {\n",
    "    't1': {'t1': 0.1, 't2': 0.1, 't3': 0.1, 't4': 0.7},\n",
    "    't2': {'t1': 0.1, 't2': 0.1, 't3': 0.1, 't4': 0.7},\n",
    "    't3': {'t1': 0.1, 't2': 0.1, 't3': 0.1, 't4': 0.7},\n",
    "    't4': {'t1': 0.1, 't2': 0.1, 't3': 0.1, 't4': 0.7}\n",
    "}\n",
    "\n",
    "# Define emission probabilities (dummy data)\n",
    "emission_probs = {\n",
    "    't1': {'Phrase1': 0.05, 'Phrase2': 0.05, 'Phrase3': 0.05, 'Phrase4': 0.05, 'Phrase5': 0.05, 'Phrase6': 0.05,\n",
    "           'Phrase7': 0.05, 'Phrase8': 0.05, 'Phrase9': 0.05, 'Phrase10': 0.05, 'Phrase11': 0.05, 'Phrase12': 0.45},\n",
    "    't2': {'Phrase1': 0.05, 'Phrase2': 0.45, 'Phrase3': 0.05, 'Phrase4': 0.05, 'Phrase5': 0.05, 'Phrase6': 0.05,\n",
    "           'Phrase7': 0.05, 'Phrase8': 0.05, 'Phrase9': 0.05, 'Phrase10': 0.05, 'Phrase11': 0.05, 'Phrase12': 0.05},\n",
    "    't3': {'Phrase1': 0.05, 'Phrase2': 0.05, 'Phrase3': 0.45, 'Phrase4': 0.05, 'Phrase5': 0.05, 'Phrase6': 0.05,\n",
    "           'Phrase7': 0.05, 'Phrase8': 0.05, 'Phrase9': 0.05, 'Phrase10': 0.05, 'Phrase11': 0.05, 'Phrase12': 0.05},\n",
    "    't4': {'Phrase1': 0.05, 'Phrase2': 0.05, 'Phrase3': 0.05, 'Phrase4': 0.05, 'Phrase5': 0.05, 'Phrase6': 0.45,\n",
    "           'Phrase7': 0.05, 'Phrase8': 0.05, 'Phrase9': 0.05, 'Phrase10': 0.05, 'Phrase11': 0.05, 'Phrase12': 0.05}\n",
    "}"
   ]
  }
 ],
 "metadata": {
  "kernelspec": {
   "display_name": "Python 3 (ipykernel)",
   "language": "python",
   "name": "python3"
  },
  "language_info": {
   "codemirror_mode": {
    "name": "ipython",
    "version": 3
   },
   "file_extension": ".py",
   "mimetype": "text/x-python",
   "name": "python",
   "nbconvert_exporter": "python",
   "pygments_lexer": "ipython3",
   "version": "3.11.7"
  }
 },
 "nbformat": 4,
 "nbformat_minor": 5
}
